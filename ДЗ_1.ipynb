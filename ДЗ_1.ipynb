{
 "cells": [
  {
   "cell_type": "markdown",
   "id": "0797f2b8",
   "metadata": {},
   "source": [
    "**1) Из колоды в 52 карты извлекаются случайным образом 4 карты.**"
   ]
  },
  {
   "cell_type": "markdown",
   "id": "402db585",
   "metadata": {},
   "source": [
    "**a) Найти вероятность того, что все карты – крести.**"
   ]
  },
  {
   "cell_type": "code",
   "execution_count": 1,
   "id": "0c3b012d",
   "metadata": {},
   "outputs": [],
   "source": [
    "from math import factorial\n",
    "def combinations(n, k):\n",
    "    return int(factorial(n) / (factorial(k) * factorial(n - k))) "
   ]
  },
  {
   "cell_type": "markdown",
   "id": "148ef6f5",
   "metadata": {},
   "source": [
    "#### Вычислим m:"
   ]
  },
  {
   "cell_type": "code",
   "execution_count": 2,
   "id": "2e4065f2",
   "metadata": {},
   "outputs": [
    {
     "name": "stdout",
     "output_type": "stream",
     "text": [
      "m = 715\n"
     ]
    }
   ],
   "source": [
    "m=combinations(13, 4)\n",
    "print(f'm = {m}')"
   ]
  },
  {
   "cell_type": "markdown",
   "id": "8125c039",
   "metadata": {},
   "source": [
    "#### Вычислим n:"
   ]
  },
  {
   "cell_type": "code",
   "execution_count": 3,
   "id": "88d9200b",
   "metadata": {},
   "outputs": [
    {
     "name": "stdout",
     "output_type": "stream",
     "text": [
      "n = 270725\n"
     ]
    }
   ],
   "source": [
    "n=combinations(52, 4)\n",
    "print(f'n = {n}')"
   ]
  },
  {
   "cell_type": "markdown",
   "id": "b54db3e3",
   "metadata": {},
   "source": [
    "**Найдем вероятность P (4 трефы)**"
   ]
  },
  {
   "cell_type": "code",
   "execution_count": 4,
   "id": "9458fa31",
   "metadata": {},
   "outputs": [
    {
     "name": "stdout",
     "output_type": "stream",
     "text": [
      "P(4 трефы) = 0.0026\n"
     ]
    }
   ],
   "source": [
    "P=m/n\n",
    "print(f'P(4 трефы) = {round(P,4)}')"
   ]
  },
  {
   "cell_type": "markdown",
   "id": "c3cc5b5b",
   "metadata": {},
   "source": [
    "#### б) Найти вероятность, что среди 4-х карт окажется хотя бы один туз."
   ]
  },
  {
   "cell_type": "code",
   "execution_count": 5,
   "id": "dfd57049",
   "metadata": {},
   "outputs": [
    {
     "name": "stdout",
     "output_type": "stream",
     "text": [
      "n = 270725\n"
     ]
    }
   ],
   "source": [
    "n=combinations(52, 4)\n",
    "print(f'n = {n}')"
   ]
  },
  {
   "cell_type": "code",
   "execution_count": 6,
   "id": "d4902382",
   "metadata": {},
   "outputs": [
    {
     "name": "stdout",
     "output_type": "stream",
     "text": [
      "m = 76145\n"
     ]
    }
   ],
   "source": [
    "m=sum([combinations(4,1)*combinations(48,3),combinations(4,2)*combinations(48,2),combinations(4,3)*combinations(48,1),1])\n",
    "print(f'm = {m}')"
   ]
  },
  {
   "cell_type": "code",
   "execution_count": 7,
   "id": "1c08661d",
   "metadata": {},
   "outputs": [
    {
     "name": "stdout",
     "output_type": "stream",
     "text": [
      "P(хотя бы 1 туз) = 0.2813\n"
     ]
    }
   ],
   "source": [
    "P=m/n\n",
    "print(f'P(хотя бы 1 туз) = {round(P,4)}')"
   ]
  },
  {
   "cell_type": "markdown",
   "id": "6db403b1",
   "metadata": {},
   "source": [
    "#### Так же можно использовать то, что сумма вероятностей противоположных событий P(A)+P(Ā)=1 → P(A)=1-P(Ā)"
   ]
  },
  {
   "cell_type": "code",
   "execution_count": 8,
   "id": "c09f93ed",
   "metadata": {},
   "outputs": [
    {
     "name": "stdout",
     "output_type": "stream",
     "text": [
      "P(хотя бы 1 туз) = 0.2813\n"
     ]
    }
   ],
   "source": [
    "P2=1-combinations(48,4)/combinations(52,4)\n",
    "print(f'P(хотя бы 1 туз) = {round(P2,4)}')"
   ]
  },
  {
   "cell_type": "markdown",
   "id": "9f7fc15d",
   "metadata": {},
   "source": [
    "**Ответ:\n",
    "    1 Задача**\n",
    "    \n",
    "а) P(4 трефы)≈0.0026≈0.26%;\n",
    "\n",
    "б) P(хотя бы 1 туз)≈0.2813≈28.13%."
   ]
  },
  {
   "cell_type": "markdown",
   "id": "f017e006",
   "metadata": {},
   "source": [
    "#### 2) На входной двери подъезда установлен кодовый замок, содержащий десять кнопок с цифрами от 0 до 9. Код содержит три цифры, которые нужно нажать одновременно. Какова вероятность того, что человек, не знающий код, откроет дверь с первой попытки?"
   ]
  },
  {
   "cell_type": "code",
   "execution_count": 12,
   "id": "fcf2d73b",
   "metadata": {},
   "outputs": [
    {
     "name": "stdout",
     "output_type": "stream",
     "text": [
      "P(открыть с первой попытки) = 0.0083\n"
     ]
    }
   ],
   "source": [
    "P=1/combinations(10,3)\n",
    "print(f'P(открыть с первой попытки) = {round(P,4)}')"
   ]
  },
  {
   "cell_type": "markdown",
   "id": "17438a93",
   "metadata": {},
   "source": [
    "**Ответ: 2 задача**\n",
    "    \n",
    "P(открыть с первой попытки)≈0.0083≈0.83%."
   ]
  },
  {
   "cell_type": "markdown",
   "id": "65d518ad",
   "metadata": {},
   "source": [
    "#### 3) В ящике имеется 15 деталей, из которых 9 окрашены. Рабочий случайным образом извлекает 3 детали. Какова вероятность того, что все извлеченные детали окрашены?"
   ]
  },
  {
   "cell_type": "code",
   "execution_count": 10,
   "id": "35111f8d",
   "metadata": {},
   "outputs": [
    {
     "name": "stdout",
     "output_type": "stream",
     "text": [
      "P(3 из 3-х окрашены) = 0.1846\n"
     ]
    }
   ],
   "source": [
    "P=combinations(9,3)/combinations(15,3)\n",
    "print(f'P(3 из 3-х окрашены) = {round(P,4)}')"
   ]
  },
  {
   "cell_type": "markdown",
   "id": "1934208b",
   "metadata": {},
   "source": [
    "**Ответ: 3 задача**\n",
    "\n",
    "P(3 из 3-х окрашены)≈0.1846≈18.46%."
   ]
  },
  {
   "cell_type": "markdown",
   "id": "f76f141b",
   "metadata": {},
   "source": [
    "#### 4) В лотерее 100 билетов. Из них 2 выигрышных. Какова вероятность того, что 2 приобретенных билета окажутся выигрышными?"
   ]
  },
  {
   "cell_type": "code",
   "execution_count": 11,
   "id": "ecd54558",
   "metadata": {},
   "outputs": [
    {
     "name": "stdout",
     "output_type": "stream",
     "text": [
      "P(оба выигрышных = 0.0002)\n"
     ]
    }
   ],
   "source": [
    "P=1/combinations(100,2)\n",
    "print(f'P(оба выигрышных = {round(P,4)})')"
   ]
  },
  {
   "cell_type": "markdown",
   "id": "3c22e968",
   "metadata": {},
   "source": [
    "**Ответ: 4 задача**\n",
    "\n",
    "P(оба выигрышных)≈0.0002≈0.02%."
   ]
  },
  {
   "cell_type": "code",
   "execution_count": null,
   "id": "9e23f1a1",
   "metadata": {},
   "outputs": [],
   "source": []
  }
 ],
 "metadata": {
  "kernelspec": {
   "display_name": "Python 3 (ipykernel)",
   "language": "python",
   "name": "python3"
  },
  "language_info": {
   "codemirror_mode": {
    "name": "ipython",
    "version": 3
   },
   "file_extension": ".py",
   "mimetype": "text/x-python",
   "name": "python",
   "nbconvert_exporter": "python",
   "pygments_lexer": "ipython3",
   "version": "3.9.13"
  }
 },
 "nbformat": 4,
 "nbformat_minor": 5
}
