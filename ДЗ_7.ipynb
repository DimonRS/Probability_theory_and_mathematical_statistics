{
 "cells": [
  {
   "cell_type": "markdown",
   "id": "6b6ae564",
   "metadata": {},
   "source": [
    "## 1-4 задачи решать с помощью функций, 5ю вручную\n",
    "\n",
    "## Выберете тест и проверьте, есть ли различия между выборками:"
   ]
  },
  {
   "cell_type": "markdown",
   "id": "5036a1fb",
   "metadata": {},
   "source": [
    "###  1) Даны две независимые выборки. Не соблюдается условие нормальности\n",
    "### x1 380,420, 290\n",
    "### y1 140,360,200,900\n",
    "### Сделайте вывод по результатам, полученным с помощью функции"
   ]
  },
  {
   "cell_type": "markdown",
   "id": "73100688",
   "metadata": {},
   "source": [
    "Так как не соблюдается условие нормальности, выборки очень маленького объема, а также количество выборок равно 2 и они независимы, выбираем критерий Манна-Уитни."
   ]
  },
  {
   "cell_type": "code",
   "execution_count": 5,
   "id": "810c4858",
   "metadata": {},
   "outputs": [],
   "source": [
    "import numpy as np\n",
    "import scipy.stats as stats"
   ]
  },
  {
   "cell_type": "code",
   "execution_count": 9,
   "id": "4f270931",
   "metadata": {},
   "outputs": [
    {
     "data": {
      "text/plain": [
       "MannwhitneyuResult(statistic=8.0, pvalue=0.6285714285714286)"
      ]
     },
     "execution_count": 9,
     "metadata": {},
     "output_type": "execute_result"
    }
   ],
   "source": [
    "Alpha = 0.05\n",
    "a = np.array([380, 420, 290])\n",
    "b = np.array([140,360,200,900])\n",
    "stats.mannwhitneyu(a,b)"
   ]
  },
  {
   "cell_type": "markdown",
   "id": "0103aeea",
   "metadata": {},
   "source": [
    "#### Ответ:\n",
    "\n",
    "_**pvalue > alpha, поэтому у нас нет оснований отвергнуть нулевую гипотезу. Статистически значимых различий между выборками нет.**_"
   ]
  },
  {
   "cell_type": "markdown",
   "id": "20437ba1",
   "metadata": {},
   "source": [
    "### 2) Исследовалось влияние препарата на уровень давления пациентов. Сначала измерялось давление до приема препарата, потом через 10 минут и через 30 минут. Есть ли статистически значимые различия?\n",
    "### 1е измерение до приема препарата: 150, 160, 165, 145, 155\n",
    "### 2е измерение через 10 минут: 140, 155, 150, 130, 135\n",
    "### 3е измерение через 30 минут: 130, 130, 120, 130, 125"
   ]
  },
  {
   "cell_type": "markdown",
   "id": "46c8956a",
   "metadata": {},
   "source": [
    "Так как количество выборок равно 3 и они зависимы(люди одни и те же), выбираем критерий Фридмана."
   ]
  },
  {
   "cell_type": "code",
   "execution_count": 13,
   "id": "ac99a52f",
   "metadata": {},
   "outputs": [
    {
     "data": {
      "text/plain": [
       "FriedmanchisquareResult(statistic=9.578947368421062, pvalue=0.00831683351100441)"
      ]
     },
     "execution_count": 13,
     "metadata": {},
     "output_type": "execute_result"
    }
   ],
   "source": [
    "Alpha = 0.05\n",
    "A = np.array([150, 160, 165, 145, 155])\n",
    "B = np.array([140, 155, 150, 130, 135]) \n",
    "C=np.array([130, 130, 120, 130, 125])\n",
    "\n",
    "stats.friedmanchisquare(A, B, C)"
   ]
  },
  {
   "cell_type": "markdown",
   "id": "7e0fe007",
   "metadata": {},
   "source": [
    "#### Ответ:\n",
    "\n",
    "_**pvalue < alpha, поэтому у нас есть основания для принятия альтернативной гипотезы. Мы получили статистически значимые различия между выборками. Препарат очевидно снижает давление.**_"
   ]
  },
  {
   "cell_type": "markdown",
   "id": "eeafbbb0",
   "metadata": {},
   "source": [
    "### 3) Сравните 1 и 2 е измерения, предполагая, что 3го измерения через 30 минут не было."
   ]
  },
  {
   "cell_type": "markdown",
   "id": "2a80364e",
   "metadata": {},
   "source": [
    "Так как количество выборок теперь равно 2 и они зависимы(люди одни и те же), выбираем критерий Уилкоксона."
   ]
  },
  {
   "cell_type": "code",
   "execution_count": 14,
   "id": "be3fa39e",
   "metadata": {},
   "outputs": [
    {
     "data": {
      "text/plain": [
       "WilcoxonResult(statistic=0.0, pvalue=0.0625)"
      ]
     },
     "execution_count": 14,
     "metadata": {},
     "output_type": "execute_result"
    }
   ],
   "source": [
    "Alpha = 0.05\n",
    "\n",
    "stats.wilcoxon(A, B)"
   ]
  },
  {
   "cell_type": "markdown",
   "id": "df42f737",
   "metadata": {},
   "source": [
    "#### Ответ:\n",
    "\n",
    "_**pvalue > alpha, поэтому у нас нет оснований отвергнуть нулевую гипотезу. Мы не получили статистически значимых различий.**_"
   ]
  },
  {
   "cell_type": "markdown",
   "id": "dca8f3cd",
   "metadata": {},
   "source": [
    "### 4) Даны 3 группы учеников плавания.\n",
    "### В 1 группе время на дистанцию 50 м составляют: 56, 60, 62, 55, 71, 67, 59, 58, 64, 67\n",
    "### Вторая группа : 57, 58, 69, 48, 72, 70, 68, 71, 50, 53\n",
    "### Третья группа: 57, 67, 49, 48, 47, 55, 66, 51, 54"
   ]
  },
  {
   "cell_type": "markdown",
   "id": "2652c4ee",
   "metadata": {},
   "source": [
    "Так как количество выборок равно 3 и они независимы(люди в каждой группе разные), выбираем критерий Крускала-Уоллиса."
   ]
  },
  {
   "cell_type": "code",
   "execution_count": 15,
   "id": "115369dc",
   "metadata": {},
   "outputs": [
    {
     "data": {
      "text/plain": [
       "KruskalResult(statistic=5.465564058257224, pvalue=0.0650380998590494)"
      ]
     },
     "execution_count": 15,
     "metadata": {},
     "output_type": "execute_result"
    }
   ],
   "source": [
    "Alpha = 0.05\n",
    "gr1 =([56, 60, 62, 55, 71, 67, 59, 58, 64, 67])\n",
    "gr2 = ([57, 58, 69, 48, 72, 70, 68, 71, 50, 53])\n",
    "gr3 = ([57, 67, 49, 48, 47, 55, 66, 51, 54])\n",
    "\n",
    "stats.kruskal(gr1, gr2, gr3)"
   ]
  },
  {
   "cell_type": "markdown",
   "id": "581296a1",
   "metadata": {},
   "source": [
    "#### Ответ:\n",
    "\n",
    "_**pvalue > alpha, поэтому у нас нет оснований отвергнуть нулевую гипотезу. Мы не получили статистически значимых различий. Статистически значимых различий по времени на дистанцию 50 м. между тремя группами необнаружены.**_"
   ]
  },
  {
   "cell_type": "code",
   "execution_count": null,
   "id": "0715afce",
   "metadata": {},
   "outputs": [],
   "source": []
  }
 ],
 "metadata": {
  "kernelspec": {
   "display_name": "Python 3 (ipykernel)",
   "language": "python",
   "name": "python3"
  },
  "language_info": {
   "codemirror_mode": {
    "name": "ipython",
    "version": 3
   },
   "file_extension": ".py",
   "mimetype": "text/x-python",
   "name": "python",
   "nbconvert_exporter": "python",
   "pygments_lexer": "ipython3",
   "version": "3.9.13"
  }
 },
 "nbformat": 4,
 "nbformat_minor": 5
}
