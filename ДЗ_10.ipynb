{
 "cells": [
  {
   "cell_type": "markdown",
   "id": "d46b8b7f",
   "metadata": {},
   "source": [
    "### Провести дисперсионный анализ для определения того, есть ли различия среднегороста среди взрослых футболистов, хоккеистов и штангистов.\n",
    "### Даны значения роста в трех группах случайно выбранных спортсменов:\n",
    "### Футболисты: 173, 175, 180, 178, 177, 185, 183, 182.\n",
    "### Хоккеисты: 177, 179, 180, 188, 177, 172, 171, 184, 180.\n",
    "### Штангисты: 172, 173, 169, 177, 166, 180, 178, 177, 172, 166, 170."
   ]
  },
  {
   "cell_type": "code",
   "execution_count": 1,
   "id": "aabfca5a",
   "metadata": {},
   "outputs": [],
   "source": [
    "import numpy as np\n",
    "import pandas as pd\n",
    "from scipy import stats"
   ]
  },
  {
   "cell_type": "markdown",
   "id": "c273bb47",
   "metadata": {},
   "source": [
    "![условие](Задача_10_1.jpg)"
   ]
  },
  {
   "cell_type": "code",
   "execution_count": 3,
   "id": "da01a61b",
   "metadata": {},
   "outputs": [],
   "source": [
    "football=np.array([173, 175, 180, 178, 177, 185, 183, 182])\n",
    "hockey=np.array([177, 179, 180, 188, 177, 172, 171, 184, 180])\n",
    "weightlifting=np.array([172, 173, 169, 177, 166, 180, 178, 177, 172, 166, 170])"
   ]
  },
  {
   "cell_type": "markdown",
   "id": "c8dde0fe",
   "metadata": {},
   "source": [
    "Воспользуемся встроенным методом однофакторного дисперсионного анализа библиотеки scipy:"
   ]
  },
  {
   "cell_type": "code",
   "execution_count": 4,
   "id": "66f43f9a",
   "metadata": {},
   "outputs": [
    {
     "data": {
      "text/plain": [
       "F_onewayResult(statistic=5.500053450812596, pvalue=0.010482206918698694)"
      ]
     },
     "execution_count": 4,
     "metadata": {},
     "output_type": "execute_result"
    }
   ],
   "source": [
    "stats.f_oneway(football, hockey, weightlifting)"
   ]
  },
  {
   "cell_type": "markdown",
   "id": "c45392be",
   "metadata": {},
   "source": [
    "![условие](Задача_10_2.jpg)"
   ]
  },
  {
   "cell_type": "code",
   "execution_count": null,
   "id": "f2f10b44",
   "metadata": {},
   "outputs": [],
   "source": []
  }
 ],
 "metadata": {
  "kernelspec": {
   "display_name": "Python 3 (ipykernel)",
   "language": "python",
   "name": "python3"
  },
  "language_info": {
   "codemirror_mode": {
    "name": "ipython",
    "version": 3
   },
   "file_extension": ".py",
   "mimetype": "text/x-python",
   "name": "python",
   "nbconvert_exporter": "python",
   "pygments_lexer": "ipython3",
   "version": "3.9.13"
  }
 },
 "nbformat": 4,
 "nbformat_minor": 5
}
