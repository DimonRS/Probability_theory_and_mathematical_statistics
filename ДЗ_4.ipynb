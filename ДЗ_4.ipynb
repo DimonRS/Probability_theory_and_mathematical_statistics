{
 "cells": [
  {
   "cell_type": "markdown",
   "id": "407ddef9",
   "metadata": {},
   "source": [
    "### 1) Случайная непрерывная величина A имеет равномерное распределение на промежутке (200, 800].\n",
    "### Найдите ее среднее значение и дисперсию."
   ]
  },
  {
   "cell_type": "markdown",
   "id": "4f75f067",
   "metadata": {},
   "source": [
    "Используем формулы для определения мат. ожидания и дисперсии для случайной непрерывной величины X, равномерно распределённой на отрезке [a;b]:\n",
    "Математическое ожидание: M(X)=(a+b)/2\n",
    "Дисперсия: D(X)=〖(b-a)^2/12 \n",
    "Вычислим:"
   ]
  },
  {
   "cell_type": "code",
   "execution_count": 1,
   "id": "fcade226",
   "metadata": {},
   "outputs": [
    {
     "name": "stdout",
     "output_type": "stream",
     "text": [
      "На промежутке (200;800]\n",
      "Среднее значение: М(А) =  500.00\n",
      "Дисперсия: D(A) =  30000.00\n"
     ]
    }
   ],
   "source": [
    "def mean_and_variance(a,b):\n",
    "    return f'На промежутке ({a};{b}]\\nСреднее значение: М(А) = {(a+b)/2: .2f}\\nДисперсия: D(A) = {((b-a)**2)/12: .2f}'\n",
    "print(mean_and_variance(200,800))"
   ]
  },
  {
   "cell_type": "markdown",
   "id": "c6222f6e",
   "metadata": {},
   "source": [
    "#### Ответ:\n",
    "**M(A) = 500.00**\n",
    "\n",
    "**D(A) = 30000.00**"
   ]
  },
  {
   "cell_type": "markdown",
   "id": "3b62ec09",
   "metadata": {},
   "source": [
    "### 2) О случайной непрерывной равномерно распределенной величине B известно, что ее дисперсия равна 0.2.\n",
    "### Можно ли найти правую границу величины B и ее среднее значение зная, что левая граница равна 0.5? Если да, найдите ее."
   ]
  },
  {
   "cell_type": "markdown",
   "id": "8de290f0",
   "metadata": {},
   "source": [
    "Зная, что дисперсия случайной непрерывной равномерно распределённой на отрезке (a;b)величины B находится по формуле:\n",
    "\n",
    "D(X)=〖(b-a)〗^2/12\n",
    "\n",
    "И имея заданные значения D(B)=0.2 и a=0.5\n",
    "\n",
    "Найдем правую границу b величины B из уравнения\n",
    "\n",
    "〖(b-0.5)〗^2/12=0.2b-0.5=√2.4 b=0.5+√2.4\n",
    "\n",
    "И найдем среднее значение по формуле:\n",
    "\n",
    "M(B)=(a+b)/2"
   ]
  },
  {
   "cell_type": "code",
   "execution_count": 3,
   "id": "28230ac1",
   "metadata": {},
   "outputs": [
    {
     "name": "stdout",
     "output_type": "stream",
     "text": [
      "Левая граница распределения величины В - b =  2.049\n",
      "Среднее значение В на промежутке (0.5;  2.049) M(B) =  1.275\n"
     ]
    }
   ],
   "source": [
    "b=0.5+2.4**(1/2)\n",
    "print(f'Левая граница распределения величины В - b = {b: .3f}\\n'\n",
    "      f'Среднее значение В на промежутке (0.5; {b: .3f}) M(B) = {(b+0.5)/2: .3f}')"
   ]
  },
  {
   "cell_type": "markdown",
   "id": "c6ceb199",
   "metadata": {},
   "source": [
    "#### Ответ:\n",
    "\n",
    "**Левая граница распределения: b = 2.049**\n",
    "    \n",
    "**Среднее значение: M(B) = 1.275**\n"
   ]
  },
  {
   "cell_type": "markdown",
   "id": "84948ad5",
   "metadata": {},
   "source": [
    "### 3) Непрерывная случайная величина X распределена нормально и задана плотностью распределения\n",
    "\n",
    "### f(x) = (1 / (4 * sqrt(2pi))) * exp((-(x+2)**2) / 32)\n",
    "\n",
    "### Найдите:\n",
    "### а) M(X)     б) D(X)     в) std(X) (среднее квадратичное отклонение)"
   ]
  },
  {
   "cell_type": "markdown",
   "id": "7dce71f0",
   "metadata": {},
   "source": [
    "![решение](Задача_4_2.jpg)"
   ]
  },
  {
   "cell_type": "markdown",
   "id": "7e3c4c90",
   "metadata": {},
   "source": [
    "#### Ответ:\n",
    "**M(X) = a = -2; σ = 4; D(X) = σ^2= 16**"
   ]
  },
  {
   "cell_type": "markdown",
   "id": "dad439d6",
   "metadata": {},
   "source": [
    "### 4) Рост взрослого населения города X имеет нормальное распределение, причем, средний рост равен 174 см, а среднее квадратическое отклонение равно 8 см. посчитайте, какова вероятность того, что случайным образом выбранный взрослый человек имеет рост:\n",
    "**а. больше 182 см?**\n",
    "\n",
    "**б. больше 190 см?**\n",
    "\n",
    "**в. от 166 см до 190 см?**\n",
    "\n",
    "**г. от 166 см до 182 см?**\n",
    "\n",
    "**д. от 158 см до 190 см?**\n",
    "\n",
    "**е. не выше 150 см или не ниже 190 см?**\n",
    "\n",
    "**ё. не выше 150 см или не ниже 198 см?**\n",
    "\n",
    "**ж. ниже 166 см?**\n",
    "\n",
    "_Задачу можно решить двумя способами: без использования сторонних библиотек (numpy, scipy, pandas и пр.), а затем проверить себя с помощью встроенных функций_"
   ]
  },
  {
   "cell_type": "markdown",
   "id": "c515e2f9",
   "metadata": {},
   "source": [
    "Напишем функцию для определения Z-значений для данного распределения:"
   ]
  },
  {
   "cell_type": "code",
   "execution_count": 5,
   "id": "0b25cba9",
   "metadata": {},
   "outputs": [],
   "source": [
    "def z_value(height):\n",
    "    return (height-174)/8"
   ]
  },
  {
   "cell_type": "code",
   "execution_count": 6,
   "id": "c8fb205e",
   "metadata": {},
   "outputs": [],
   "source": [
    "from statistics import NormalDist"
   ]
  },
  {
   "cell_type": "markdown",
   "id": "443531b6",
   "metadata": {},
   "source": [
    "a) Определим Z-значениe:"
   ]
  },
  {
   "cell_type": "code",
   "execution_count": 7,
   "id": "b29570fc",
   "metadata": {},
   "outputs": [
    {
     "name": "stdout",
     "output_type": "stream",
     "text": [
      "1.0\n"
     ]
    }
   ],
   "source": [
    "print(z_value(182))"
   ]
  },
  {
   "cell_type": "markdown",
   "id": "f63214e2",
   "metadata": {},
   "source": [
    "метод cdf определяет вероятность того, что случайная величина X будет меньше или равна x, т.е в данном случае P(X ≤ 182)"
   ]
  },
  {
   "cell_type": "code",
   "execution_count": 8,
   "id": "45d4b4e9",
   "metadata": {},
   "outputs": [
    {
     "data": {
      "text/plain": [
       "0.8413447460685428"
      ]
     },
     "execution_count": 8,
     "metadata": {},
     "output_type": "execute_result"
    }
   ],
   "source": [
    "NormalDist().cdf(z_value(182))"
   ]
  },
  {
   "cell_type": "markdown",
   "id": "294c5d1b",
   "metadata": {},
   "source": [
    "Однако нам нужна вероятность P(X ≥ 182), поэтому вычтем полученное значение из 1:"
   ]
  },
  {
   "cell_type": "code",
   "execution_count": 9,
   "id": "96763ef5",
   "metadata": {},
   "outputs": [
    {
     "data": {
      "text/plain": [
       "0.15865525393145719"
      ]
     },
     "execution_count": 9,
     "metadata": {},
     "output_type": "execute_result"
    }
   ],
   "source": [
    "P=1-NormalDist().cdf(z_value(182))\n",
    "P"
   ]
  },
  {
   "cell_type": "markdown",
   "id": "d686719d",
   "metadata": {},
   "source": [
    "_**P(X ≥ 182) = 0.1587**_"
   ]
  },
  {
   "cell_type": "markdown",
   "id": "b68ec554",
   "metadata": {},
   "source": [
    "б) Определим Z-значениe:"
   ]
  },
  {
   "cell_type": "code",
   "execution_count": 10,
   "id": "94fc66f1",
   "metadata": {},
   "outputs": [
    {
     "data": {
      "text/plain": [
       "2.0"
      ]
     },
     "execution_count": 10,
     "metadata": {},
     "output_type": "execute_result"
    }
   ],
   "source": [
    "z=z_value(190)\n",
    "z"
   ]
  },
  {
   "cell_type": "markdown",
   "id": "0babdd24",
   "metadata": {},
   "source": [
    "Определим **P(X ≥ 190)**"
   ]
  },
  {
   "cell_type": "code",
   "execution_count": 11,
   "id": "62ee89d0",
   "metadata": {},
   "outputs": [
    {
     "data": {
      "text/plain": [
       "0.022750131948179098"
      ]
     },
     "execution_count": 11,
     "metadata": {},
     "output_type": "execute_result"
    }
   ],
   "source": [
    "P=1-NormalDist().cdf(z)\n",
    "P"
   ]
  },
  {
   "cell_type": "markdown",
   "id": "ac651a58",
   "metadata": {},
   "source": [
    "_**P(X ≥ 190) = 0.02275**_"
   ]
  },
  {
   "cell_type": "markdown",
   "id": "8e78fbc2",
   "metadata": {},
   "source": [
    "в) Определим Z1 и Z2:"
   ]
  },
  {
   "cell_type": "code",
   "execution_count": 12,
   "id": "c6f26872",
   "metadata": {},
   "outputs": [
    {
     "data": {
      "text/plain": [
       "-1.0"
      ]
     },
     "execution_count": 12,
     "metadata": {},
     "output_type": "execute_result"
    }
   ],
   "source": [
    "z1=z_value(166)\n",
    "z1"
   ]
  },
  {
   "cell_type": "code",
   "execution_count": 13,
   "id": "84892217",
   "metadata": {},
   "outputs": [
    {
     "data": {
      "text/plain": [
       "2.0"
      ]
     },
     "execution_count": 13,
     "metadata": {},
     "output_type": "execute_result"
    }
   ],
   "source": [
    "z2=z_value(190)\n",
    "z2"
   ]
  },
  {
   "cell_type": "markdown",
   "id": "146de604",
   "metadata": {},
   "source": [
    "Определим **P(166 ≤ X ≤ 190)**"
   ]
  },
  {
   "cell_type": "code",
   "execution_count": 14,
   "id": "3489409f",
   "metadata": {},
   "outputs": [
    {
     "data": {
      "text/plain": [
       "0.8185946141203637"
      ]
     },
     "execution_count": 14,
     "metadata": {},
     "output_type": "execute_result"
    }
   ],
   "source": [
    "P=NormalDist().cdf(z2)-NormalDist().cdf(z1)\n",
    "P"
   ]
  },
  {
   "cell_type": "markdown",
   "id": "c9923089",
   "metadata": {},
   "source": [
    "_**P(166 ≤ X ≤ 190) = 0.8186**_"
   ]
  },
  {
   "cell_type": "markdown",
   "id": "c7e5f86d",
   "metadata": {},
   "source": [
    "г) Определим Z1 и Z2:"
   ]
  },
  {
   "cell_type": "code",
   "execution_count": 18,
   "id": "bbed7f4f",
   "metadata": {},
   "outputs": [
    {
     "data": {
      "text/plain": [
       "-1.0"
      ]
     },
     "execution_count": 18,
     "metadata": {},
     "output_type": "execute_result"
    }
   ],
   "source": [
    "z1=z_value(166)\n",
    "z1"
   ]
  },
  {
   "cell_type": "code",
   "execution_count": 16,
   "id": "b45b8029",
   "metadata": {},
   "outputs": [
    {
     "data": {
      "text/plain": [
       "1.0"
      ]
     },
     "execution_count": 16,
     "metadata": {},
     "output_type": "execute_result"
    }
   ],
   "source": [
    "z2=z_value(182)\n",
    "z2"
   ]
  },
  {
   "cell_type": "markdown",
   "id": "d5ec7eed",
   "metadata": {},
   "source": [
    "Определим **P(166 ≤ X ≤ 182)**"
   ]
  },
  {
   "cell_type": "code",
   "execution_count": 17,
   "id": "b15d82be",
   "metadata": {},
   "outputs": [
    {
     "data": {
      "text/plain": [
       "0.6826894921370856"
      ]
     },
     "execution_count": 17,
     "metadata": {},
     "output_type": "execute_result"
    }
   ],
   "source": [
    "P=NormalDist().cdf(z2)-NormalDist().cdf(z1)\n",
    "P"
   ]
  },
  {
   "cell_type": "markdown",
   "id": "67df49b9",
   "metadata": {},
   "source": [
    "_**P(166 ≤ X ≤ 182) = 0.6827**_"
   ]
  },
  {
   "cell_type": "markdown",
   "id": "b1215c90",
   "metadata": {},
   "source": [
    "д) Определим Z1 и Z2:"
   ]
  },
  {
   "cell_type": "code",
   "execution_count": 19,
   "id": "ee9def9b",
   "metadata": {},
   "outputs": [
    {
     "data": {
      "text/plain": [
       "-2.0"
      ]
     },
     "execution_count": 19,
     "metadata": {},
     "output_type": "execute_result"
    }
   ],
   "source": [
    "z1=z_value(158)\n",
    "z1"
   ]
  },
  {
   "cell_type": "code",
   "execution_count": 20,
   "id": "881d2933",
   "metadata": {},
   "outputs": [
    {
     "data": {
      "text/plain": [
       "2.0"
      ]
     },
     "execution_count": 20,
     "metadata": {},
     "output_type": "execute_result"
    }
   ],
   "source": [
    "z2=z_value(190)\n",
    "z2"
   ]
  },
  {
   "cell_type": "markdown",
   "id": "42cf00b6",
   "metadata": {},
   "source": [
    "Определим **P(158 ≤ X ≤ 190)**"
   ]
  },
  {
   "cell_type": "code",
   "execution_count": 22,
   "id": "5af5e62f",
   "metadata": {},
   "outputs": [
    {
     "data": {
      "text/plain": [
       "0.9544997361036418"
      ]
     },
     "execution_count": 22,
     "metadata": {},
     "output_type": "execute_result"
    }
   ],
   "source": [
    "P=NormalDist().cdf(z2)-NormalDist().cdf(z1)\n",
    "P"
   ]
  },
  {
   "cell_type": "markdown",
   "id": "ffb5d7b7",
   "metadata": {},
   "source": [
    "_**P(158 ≤ X ≤ 190) = 0.9545**_"
   ]
  },
  {
   "cell_type": "markdown",
   "id": "53de72b7",
   "metadata": {},
   "source": [
    "е) Определим Z1 и Z2:"
   ]
  },
  {
   "cell_type": "code",
   "execution_count": 24,
   "id": "e7d4f2c0",
   "metadata": {},
   "outputs": [
    {
     "data": {
      "text/plain": [
       "-3.0"
      ]
     },
     "execution_count": 24,
     "metadata": {},
     "output_type": "execute_result"
    }
   ],
   "source": [
    "z1=z_value(150)\n",
    "z1"
   ]
  },
  {
   "cell_type": "code",
   "execution_count": 25,
   "id": "58c08dc2",
   "metadata": {},
   "outputs": [
    {
     "data": {
      "text/plain": [
       "2.0"
      ]
     },
     "execution_count": 25,
     "metadata": {},
     "output_type": "execute_result"
    }
   ],
   "source": [
    "z2=z_value(190)\n",
    "z2"
   ]
  },
  {
   "cell_type": "markdown",
   "id": "d08e1187",
   "metadata": {},
   "source": [
    "Определим **P(X ≤ 150 ∪ X ≥ 190)**"
   ]
  },
  {
   "cell_type": "code",
   "execution_count": 26,
   "id": "7de39c5c",
   "metadata": {},
   "outputs": [
    {
     "data": {
      "text/plain": [
       "0.0241000299798092"
      ]
     },
     "execution_count": 26,
     "metadata": {},
     "output_type": "execute_result"
    }
   ],
   "source": [
    "P=NormalDist().cdf(z1)+(1-NormalDist().cdf(z2))\n",
    "P"
   ]
  },
  {
   "cell_type": "markdown",
   "id": "efa8396a",
   "metadata": {},
   "source": [
    "_**P(X ≤ 150 ∪ X ≥ 190) = 0.0241**_"
   ]
  },
  {
   "cell_type": "markdown",
   "id": "440a8727",
   "metadata": {},
   "source": [
    "ё) Определим Z1 и Z2:"
   ]
  },
  {
   "cell_type": "code",
   "execution_count": 27,
   "id": "60b25f05",
   "metadata": {},
   "outputs": [
    {
     "data": {
      "text/plain": [
       "-3.0"
      ]
     },
     "execution_count": 27,
     "metadata": {},
     "output_type": "execute_result"
    }
   ],
   "source": [
    "z1=z_value(150)\n",
    "z1"
   ]
  },
  {
   "cell_type": "code",
   "execution_count": 28,
   "id": "0ab2a13f",
   "metadata": {},
   "outputs": [
    {
     "data": {
      "text/plain": [
       "3.0"
      ]
     },
     "execution_count": 28,
     "metadata": {},
     "output_type": "execute_result"
    }
   ],
   "source": [
    "z2=z_value(198)\n",
    "z2"
   ]
  },
  {
   "cell_type": "markdown",
   "id": "23a78dd6",
   "metadata": {},
   "source": [
    "Определим **P(X ≤ 150 ∪ X ≥ 198)**"
   ]
  },
  {
   "cell_type": "code",
   "execution_count": 29,
   "id": "afd04f2e",
   "metadata": {},
   "outputs": [
    {
     "data": {
      "text/plain": [
       "0.002699796063260207"
      ]
     },
     "execution_count": 29,
     "metadata": {},
     "output_type": "execute_result"
    }
   ],
   "source": [
    "P=NormalDist().cdf(z1)+(1-NormalDist().cdf(z2))\n",
    "P"
   ]
  },
  {
   "cell_type": "markdown",
   "id": "35e0e034",
   "metadata": {},
   "source": [
    "_**P(X ≤ 150 ∪ X ≥ 190) = 0.0027**_"
   ]
  },
  {
   "cell_type": "markdown",
   "id": "c6d8d3de",
   "metadata": {},
   "source": [
    "ж) Определим Z-значениe:"
   ]
  },
  {
   "cell_type": "code",
   "execution_count": 31,
   "id": "ea8f3594",
   "metadata": {},
   "outputs": [
    {
     "data": {
      "text/plain": [
       "-1.0"
      ]
     },
     "execution_count": 31,
     "metadata": {},
     "output_type": "execute_result"
    }
   ],
   "source": [
    "z=z_value(166)\n",
    "z"
   ]
  },
  {
   "cell_type": "markdown",
   "id": "41f470d6",
   "metadata": {},
   "source": [
    "Определим **P(X ≤ 166)**"
   ]
  },
  {
   "cell_type": "code",
   "execution_count": 33,
   "id": "4feda5e9",
   "metadata": {},
   "outputs": [
    {
     "data": {
      "text/plain": [
       "0.15865525393145713"
      ]
     },
     "execution_count": 33,
     "metadata": {},
     "output_type": "execute_result"
    }
   ],
   "source": [
    "P=NormalDist().cdf(z)\n",
    "P"
   ]
  },
  {
   "cell_type": "markdown",
   "id": "0d078bfa",
   "metadata": {},
   "source": [
    "_**P(X ≤ 166) = 0.1587**_"
   ]
  },
  {
   "cell_type": "markdown",
   "id": "51a24f0c",
   "metadata": {},
   "source": [
    "#### Ответ:\n",
    "\n",
    "_**а) P(X ≥ 182) = 0.1587**_\n",
    "\n",
    "_**б) P(X ≥ 190) = 0.02275**_\n",
    "\n",
    "_**в) P(166 ≤ X ≤ 190) = 0.8186**_\n",
    "\n",
    "_**г) P(166 ≤ X ≤ 182) = 0.6827**_\n",
    "\n",
    "_**д) P(158 ≤ X ≤ 190) = 0.9545**_\n",
    "\n",
    "_**е) P(X ≤ 150 ∪ X ≥ 190) = 0.0241**_\n",
    "\n",
    "_**ё) P(X ≤ 150 ∪ X ≥ 190) = 0.0027**_\n",
    "\n",
    "_**ж) P(X ≤ 166) = 0.1587**_"
   ]
  },
  {
   "cell_type": "markdown",
   "id": "37ddf61c",
   "metadata": {},
   "source": [
    "### 5) На сколько сигм (средних квадратичных отклонений) отклоняется рост человека, равный 190 см, от математического ожидания роста в популяции, в которой M(X) = 178 см и D(X) = 25 кв.см?"
   ]
  },
  {
   "cell_type": "markdown",
   "id": "3d464c7e",
   "metadata": {},
   "source": [
    "Воспользуемся формулой расчета Z-оценки:\n",
    "![решение](Задача_4_5.jpg)"
   ]
  },
  {
   "cell_type": "code",
   "execution_count": 36,
   "id": "f0c59318",
   "metadata": {},
   "outputs": [
    {
     "data": {
      "text/plain": [
       "2.4"
      ]
     },
     "execution_count": 36,
     "metadata": {},
     "output_type": "execute_result"
    }
   ],
   "source": [
    "Z=(190-178)/25**(1/2)\n",
    "Z"
   ]
  },
  {
   "cell_type": "code",
   "execution_count": 37,
   "id": "69fbc87a",
   "metadata": {},
   "outputs": [
    {
     "name": "stdout",
     "output_type": "stream",
     "text": [
      "Рост человека, равный 190 см, отклоняется от математического ожидания роста в популяции, \n",
      "в которой M(X) = 178 см и D(X) = 25 кв.см на Z = 2.4 сигм.\n"
     ]
    }
   ],
   "source": [
    "print(f'Рост человека, равный 190 см, отклоняется от математического ожидания роста в популяции, \\n'\n",
    "      f'в которой M(X) = 178 см и D(X) = 25 кв.см на Z = {Z} сигм.')"
   ]
  },
  {
   "cell_type": "markdown",
   "id": "52fa2398",
   "metadata": {},
   "source": [
    "#### Ответ:\n",
    "    \n",
    "**на 2.4 сигмы**"
   ]
  },
  {
   "cell_type": "code",
   "execution_count": null,
   "id": "39a35a07",
   "metadata": {},
   "outputs": [],
   "source": []
  }
 ],
 "metadata": {
  "kernelspec": {
   "display_name": "Python 3 (ipykernel)",
   "language": "python",
   "name": "python3"
  },
  "language_info": {
   "codemirror_mode": {
    "name": "ipython",
    "version": 3
   },
   "file_extension": ".py",
   "mimetype": "text/x-python",
   "name": "python",
   "nbconvert_exporter": "python",
   "pygments_lexer": "ipython3",
   "version": "3.9.13"
  }
 },
 "nbformat": 4,
 "nbformat_minor": 5
}
