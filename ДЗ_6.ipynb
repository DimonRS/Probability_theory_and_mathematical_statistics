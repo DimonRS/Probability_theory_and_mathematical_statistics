{
 "cells": [
  {
   "cell_type": "markdown",
   "id": "27b845a2",
   "metadata": {},
   "source": [
    "### 1) Известно, что генеральная совокупность распределена нормально со средним квадратическим отклонением, равным 16.\n",
    "### Найти доверительный интервал для оценки математического ожидания a с надежностью 0.95, если выборочная средняя M = 80, а объем выборки n = 256."
   ]
  },
  {
   "cell_type": "markdown",
   "id": "34d291c4",
   "metadata": {},
   "source": [
    "![условие](Задача_6_1.jpg)"
   ]
  },
  {
   "cell_type": "code",
   "execution_count": 10,
   "id": "a4ae50f4",
   "metadata": {},
   "outputs": [
    {
     "name": "stdout",
     "output_type": "stream",
     "text": [
      "95%-й доверительный интервал для оценки мат. ожидания генеральной совокупности: [78.04;81.96].\n"
     ]
    }
   ],
   "source": [
    "left=80-1.96*16/256**(1/2)\n",
    "right=80+1.96*16/256**(1/2)\n",
    "print(f'95%-й доверительный интервал для оценки мат. ожидания генеральной совокупности: [{left};{right}].')"
   ]
  },
  {
   "cell_type": "markdown",
   "id": "d7e003bd",
   "metadata": {},
   "source": [
    "#### Ответ:\n",
    "    \n",
    "**[78.04;81.96]**"
   ]
  },
  {
   "cell_type": "markdown",
   "id": "8412229e",
   "metadata": {},
   "source": [
    "### 2) В результате 10 независимых измерений некоторой величины X, выполненных с одинаковой точностью, получены опытные данные: 6.9, 6.1, 6.2, 6.8, 7.5, 6.3, 6.4, 6.9, 6.7, 6.1 \n",
    "### Предполагая, что результаты измерений подчинены нормальному закону распределения вероятностей, оценить истинное значение величины X при помощи доверительного интервала, покрывающего это значение с доверительной вероятностью 0,95."
   ]
  },
  {
   "cell_type": "markdown",
   "id": "39f662e8",
   "metadata": {},
   "source": [
    "![условие](Задача_6_2.jpg)"
   ]
  },
  {
   "cell_type": "code",
   "execution_count": 11,
   "id": "6bcec951",
   "metadata": {},
   "outputs": [],
   "source": [
    "import numpy as np\n",
    "import scipy.stats as stats"
   ]
  },
  {
   "cell_type": "code",
   "execution_count": 45,
   "id": "148f2b35",
   "metadata": {},
   "outputs": [
    {
     "name": "stdout",
     "output_type": "stream",
     "text": [
      "Среднее выборочное:  6.59,\n",
      "Размер выборки n=10,\n",
      "Среднее квадратическое отклонение по выборке(несмещенное):  0.45.\n"
     ]
    }
   ],
   "source": [
    "arr=np.array([6.9, 6.1, 6.2, 6.8, 7.5, 6.3, 6.4, 6.9, 6.7, 6.1])\n",
    "print(f'Среднее выборочное: {np.mean(arr): .2f},\\n'\n",
    "      f'Размер выборки n={len(arr)},\\n'\n",
    "      f'Среднее квадратическое отклонение по выборке(несмещенное): {np.std(arr, ddof=1): .2f}.')"
   ]
  },
  {
   "cell_type": "code",
   "execution_count": 13,
   "id": "b935702d",
   "metadata": {},
   "outputs": [
    {
     "name": "stdout",
     "output_type": "stream",
     "text": [
      "Табличное значение t-критерия для 95%-го доверительного интервала данной выборки:  2.262\n"
     ]
    }
   ],
   "source": [
    "def t_from_table(confidens, len_array):\n",
    "    alpha=(1-confidens)\n",
    "    return stats.t.ppf(1-alpha/2, len_array-1)\n",
    "print(f'Табличное значение t-критерия для 95%-го доверительного интервала данной выборки: {t_from_table(0.95, len(arr)): .3f}')"
   ]
  },
  {
   "cell_type": "code",
   "execution_count": 14,
   "id": "d3c6294a",
   "metadata": {},
   "outputs": [
    {
     "name": "stdout",
     "output_type": "stream",
     "text": [
      "95%-й доверительный интервал для истинного значения Х: (6.268, 6.912).\n"
     ]
    }
   ],
   "source": [
    "def confidens_int(arr, confidens):\n",
    "    return round(np.mean(arr)-t_from_table(confidens,len(arr))*np.std(arr, ddof=1)/len(arr)**0.5,3), \\\n",
    "           round(np.mean(arr)+t_from_table(confidens,len(arr))*np.std(arr, ddof=1)/len(arr)**0.5,3)\n",
    "\n",
    "print(f'95%-й доверительный интервал для истинного значения Х: {confidens_int(arr, 0.95)}.')"
   ]
  },
  {
   "cell_type": "markdown",
   "id": "0c6bb269",
   "metadata": {},
   "source": [
    "#### Ответ:\n",
    "    \n",
    "**[6.268;6.912]**"
   ]
  },
  {
   "cell_type": "markdown",
   "id": "a4c69697",
   "metadata": {},
   "source": [
    "### 3) Рост дочерей 175, 167, 154, 174, 178, 148, 160, 167, 169, 170\n",
    "### Рост матерей 178, 165, 165, 173, 168, 155, 160, 164, 178, 175\n",
    "### Используя эти данные построить 95% доверительный интервал для разности среднего роста родителей и детей."
   ]
  },
  {
   "cell_type": "code",
   "execution_count": 33,
   "id": "147d41b5",
   "metadata": {},
   "outputs": [],
   "source": [
    "import math\n",
    "import scipy.stats as stats"
   ]
  },
  {
   "cell_type": "code",
   "execution_count": 34,
   "id": "b95460d4",
   "metadata": {},
   "outputs": [],
   "source": [
    "mother = np.array([172, 177, 158, 170, 178,175, 164, 160, 169, 165])\n",
    "daughter = np.array([173, 175, 162, 174, 175, 168, 155, 170, 160, 163])\n",
    "n = len(mother)\n",
    "alpha = 0.05\n",
    "m1 = np.mean(mother)\n",
    "m2 = np.mean(daughter)\n",
    "delta = abs(m1 - m2)"
   ]
  },
  {
   "cell_type": "code",
   "execution_count": 44,
   "id": "be59a169",
   "metadata": {},
   "outputs": [
    {
     "name": "stdout",
     "output_type": "stream",
     "text": [
      "Разность средних =  1.30\n"
     ]
    }
   ],
   "source": [
    "print(f'Разность средних = {delta: .2f}')"
   ]
  },
  {
   "cell_type": "code",
   "execution_count": 46,
   "id": "ddbb5a44",
   "metadata": {},
   "outputs": [
    {
     "name": "stdout",
     "output_type": "stream",
     "text": [
      "Табличное значение t-критерия =  2.101\n"
     ]
    }
   ],
   "source": [
    "t = stats.t.ppf(1 - (alpha / 2), 2 * (n - 1))\n",
    "print(f'Табличное значение t-критерия = {t: .3f}')"
   ]
  },
  {
   "cell_type": "code",
   "execution_count": 47,
   "id": "f223a826",
   "metadata": {},
   "outputs": [
    {
     "name": "stdout",
     "output_type": "stream",
     "text": [
      "Дисперсия двух групп =  49.339\n"
     ]
    }
   ],
   "source": [
    "d = (np.var(mother, ddof=1) + np.var(daughter, ddof=1)) / 2\n",
    "print(f'Дисперсия двух групп = {d: .3f}')"
   ]
  },
  {
   "cell_type": "code",
   "execution_count": 53,
   "id": "65684ab4",
   "metadata": {},
   "outputs": [
    {
     "name": "stdout",
     "output_type": "stream",
     "text": [
      "Sdelta =  3.141\n"
     ]
    }
   ],
   "source": [
    "s = math.sqrt((d / n) + (d / n))\n",
    "print(f'Sdelta = {s: .3f}')"
   ]
  },
  {
   "cell_type": "code",
   "execution_count": 41,
   "id": "a84b4622",
   "metadata": {},
   "outputs": [],
   "source": [
    "result1 = delta - t * s\n",
    "result2 = delta + t * s"
   ]
  },
  {
   "cell_type": "code",
   "execution_count": 55,
   "id": "567641b8",
   "metadata": {},
   "outputs": [
    {
     "name": "stdout",
     "output_type": "stream",
     "text": [
      "Доверительный интервал для разности среднего роста родителей и детей с доверительной вероятностью 0,95 = (-5.300, 7.900)\n"
     ]
    }
   ],
   "source": [
    "print(\n",
    "    f'Доверительный интервал для разности среднего роста родителей и детей с доверительной вероятностью 0,95 = ({result1: .3f},{result2: .3f})')"
   ]
  },
  {
   "cell_type": "markdown",
   "id": "ffaa3656",
   "metadata": {},
   "source": [
    "#### Ответ:\n",
    "    \n",
    "**[-5.300;7.900]**"
   ]
  },
  {
   "cell_type": "code",
   "execution_count": null,
   "id": "6e470588",
   "metadata": {},
   "outputs": [],
   "source": []
  }
 ],
 "metadata": {
  "kernelspec": {
   "display_name": "Python 3 (ipykernel)",
   "language": "python",
   "name": "python3"
  },
  "language_info": {
   "codemirror_mode": {
    "name": "ipython",
    "version": 3
   },
   "file_extension": ".py",
   "mimetype": "text/x-python",
   "name": "python",
   "nbconvert_exporter": "python",
   "pygments_lexer": "ipython3",
   "version": "3.9.13"
  }
 },
 "nbformat": 4,
 "nbformat_minor": 5
}
